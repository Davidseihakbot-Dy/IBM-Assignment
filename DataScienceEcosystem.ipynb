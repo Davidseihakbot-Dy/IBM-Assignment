{
 "cells": [
  {
   "cell_type": "markdown",
   "id": "0399dd60-5540-4999-9aef-40ad00c041b1",
   "metadata": {},
   "source": [
    "# Data Science Tools and Ecosystem"
   ]
  },
  {
   "cell_type": "markdown",
   "id": "a12f7341-264c-464c-bb80-05486f773984",
   "metadata": {},
   "source": [
    "In this notebook, Data Science Tools and Ecosystem are summarized."
   ]
  },
  {
   "cell_type": "markdown",
   "id": "f508e1c4-1fb3-4db1-a7ba-6049f395f6da",
   "metadata": {},
   "source": [
    "**Objectives:**\n",
    "- Some of the popular languages that Data Scientists use\n",
    "- Some of the commonly used libraries used by Data Scientists\n",
    "- Below are a few examples of evaluating arithmetic expressions in Python.\r\n"
   ]
  },
  {
   "cell_type": "markdown",
   "id": "36012e6c-6c53-460b-9c4a-f8dc55e00549",
   "metadata": {},
   "source": [
    "Some of the popular languages that Data Scientists use are:"
   ]
  },
  {
   "cell_type": "markdown",
   "id": "f8f780e6-9173-40dd-9bd1-916306fa74f8",
   "metadata": {},
   "source": [
    "- Python\n",
    "- R\n",
    "- SQL"
   ]
  },
  {
   "cell_type": "markdown",
   "id": "d70859f9-0df8-4396-a956-c3a8b5c369df",
   "metadata": {},
   "source": [
    "Some of the commonly used libraries used by Data Scientists include:"
   ]
  },
  {
   "cell_type": "markdown",
   "id": "33fcc9e7-5d0c-41ca-b8bd-21c4320b10ed",
   "metadata": {},
   "source": [
    "+ Numpy\n",
    "+ Matplotlib\n",
    "+ Pandas"
   ]
  },
  {
   "cell_type": "markdown",
   "id": "e10949ed-8d52-43ca-976a-e7456f136763",
   "metadata": {},
   "source": [
    "|Data Science Tools|\n",
    "|------------------|\n",
    "|Tensor Flow|\n",
    "|Matplotlib|\n",
    "|Apache Spark|"
   ]
  },
  {
   "cell_type": "markdown",
   "id": "19a2b764-106e-4671-8112-6e850b48424b",
   "metadata": {},
   "source": [
    "### Below are a few examples of evaluating arithmetic expressions in Python.\n"
   ]
  },
  {
   "cell_type": "markdown",
   "id": "d5f8aeec-5db6-48a3-9b1e-b80d3c27023d",
   "metadata": {
    "scrolled": true
   },
   "source": [
    "+ 5+7\n",
    "+ 12*3\n",
    "+ 144/12"
   ]
  },
  {
   "cell_type": "code",
   "execution_count": 17,
   "id": "205b5a67-8ce7-4001-bf11-dafd762d811e",
   "metadata": {},
   "outputs": [
    {
     "data": {
      "text/plain": [
       "17"
      ]
     },
     "execution_count": 17,
     "metadata": {},
     "output_type": "execute_result"
    }
   ],
   "source": [
    "#This a simple arithmetic expression to mutiply then add integers\n",
    "(3*4)+5"
   ]
  },
  {
   "cell_type": "code",
   "execution_count": 19,
   "id": "fb88f138-370e-4e8e-9132-abf19c48aab7",
   "metadata": {},
   "outputs": [
    {
     "data": {
      "text/plain": [
       "3.3333333333333335"
      ]
     },
     "execution_count": 19,
     "metadata": {},
     "output_type": "execute_result"
    }
   ],
   "source": [
    "#This will convert 200 minutes to hours by diving by 60\n",
    "200/60"
   ]
  },
  {
   "cell_type": "markdown",
   "id": "67169a5a-16d6-4f73-98ca-83529dd9072b",
   "metadata": {},
   "source": [
    "## Author\n",
    "David"
   ]
  },
  {
   "cell_type": "code",
   "execution_count": null,
   "id": "67ad63e0-b326-4853-b675-c68cd7f105bb",
   "metadata": {},
   "outputs": [],
   "source": []
  }
 ],
 "metadata": {
  "kernelspec": {
   "display_name": "Python 3 (ipykernel)",
   "language": "python",
   "name": "python3"
  },
  "language_info": {
   "codemirror_mode": {
    "name": "ipython",
    "version": 3
   },
   "file_extension": ".py",
   "mimetype": "text/x-python",
   "name": "python",
   "nbconvert_exporter": "python",
   "pygments_lexer": "ipython3",
   "version": "3.12.4"
  }
 },
 "nbformat": 4,
 "nbformat_minor": 5
}
